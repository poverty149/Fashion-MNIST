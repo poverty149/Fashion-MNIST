{
  "nbformat": 4,
  "nbformat_minor": 0,
  "metadata": {
    "colab": {
      "name": "Fashion MNIST.ipynb",
      "provenance": [],
      "authorship_tag": "ABX9TyO2MIfz28yOQmKS+abgxI9g",
      "include_colab_link": true
    },
    "kernelspec": {
      "name": "python3",
      "display_name": "Python 3"
    },
    "language_info": {
      "name": "python"
    }
  },
  "cells": [
    {
      "cell_type": "markdown",
      "metadata": {
        "id": "view-in-github",
        "colab_type": "text"
      },
      "source": [
        "<a href=\"https://colab.research.google.com/github/poverty149/Fashion-MNIST/blob/main/Fashion_MNIST.ipynb\" target=\"_parent\"><img src=\"https://colab.research.google.com/assets/colab-badge.svg\" alt=\"Open In Colab\"/></a>"
      ]
    },
    {
      "cell_type": "markdown",
      "metadata": {
        "id": "BwUBscgpZEwg"
      },
      "source": [
        "# Fashion MNIST"
      ]
    },
    {
      "cell_type": "code",
      "metadata": {
        "id": "xMGGTAh2ZCpu"
      },
      "source": [
        "import matplotlib.pylab as plt \n",
        "from matplotlib import pyplot\n",
        "import numpy as np \n",
        "import keras\n",
        "from keras.datasets import fashion_mnist\n",
        "from keras.models import Sequential\n",
        "from keras.layers import Dense,Flatten,Dropout\n",
        "from keras.layers import Conv2D,MaxPooling2D\n",
        "import tensorflow as tf\n",
        "from tensorflow.keras.utils import to_categorical"
      ],
      "execution_count": null,
      "outputs": []
    },
    {
      "cell_type": "code",
      "metadata": {
        "id": "wOxXfMoPbrMi"
      },
      "source": [
        "from google.colab import drive\n",
        "drive.mount('/content/gdrive')"
      ],
      "execution_count": null,
      "outputs": []
    },
    {
      "cell_type": "markdown",
      "metadata": {
        "id": "noHsxCb0buUF"
      },
      "source": [
        "##Load Dataset"
      ]
    },
    {
      "cell_type": "code",
      "metadata": {
        "id": "DIBXz1uLb4T3",
        "colab": {
          "base_uri": "https://localhost:8080/"
        },
        "outputId": "105d8147-0342-4245-83c1-3a68014ff1a2"
      },
      "source": [
        "\n",
        "(x_train, y_train), (x_test, y_test) = fashion_mnist.load_data()"
      ],
      "execution_count": null,
      "outputs": [
        {
          "output_type": "stream",
          "name": "stdout",
          "text": [
            "Downloading data from https://storage.googleapis.com/tensorflow/tf-keras-datasets/train-labels-idx1-ubyte.gz\n",
            "32768/29515 [=================================] - 0s 0us/step\n",
            "40960/29515 [=========================================] - 0s 0us/step\n",
            "Downloading data from https://storage.googleapis.com/tensorflow/tf-keras-datasets/train-images-idx3-ubyte.gz\n",
            "26427392/26421880 [==============================] - 0s 0us/step\n",
            "26435584/26421880 [==============================] - 0s 0us/step\n",
            "Downloading data from https://storage.googleapis.com/tensorflow/tf-keras-datasets/t10k-labels-idx1-ubyte.gz\n",
            "16384/5148 [===============================================================================================] - 0s 0us/step\n",
            "Downloading data from https://storage.googleapis.com/tensorflow/tf-keras-datasets/t10k-images-idx3-ubyte.gz\n",
            "4423680/4422102 [==============================] - 0s 0us/step\n",
            "4431872/4422102 [==============================] - 0s 0us/step\n"
          ]
        }
      ]
    },
    {
      "cell_type": "code",
      "metadata": {
        "id": "2nyXvDn0b4j1"
      },
      "source": [
        "assert x_train.shape==(60000,28,28)\n",
        "assert x_test.shape==(10000,28,28)\n",
        "assert y_train.shape==(60000,)\n",
        "assert y_test.shape==(10000,)"
      ],
      "execution_count": null,
      "outputs": []
    },
    {
      "cell_type": "code",
      "metadata": {
        "colab": {
          "base_uri": "https://localhost:8080/",
          "height": 282
        },
        "id": "12n3STLkdKEV",
        "outputId": "dc779c9b-7826-4df3-d97e-6447425d91fd"
      },
      "source": [
        "#plot the first image in the dataset\n",
        "plt.imshow(x_train[0])"
      ],
      "execution_count": null,
      "outputs": [
        {
          "output_type": "execute_result",
          "data": {
            "text/plain": [
              "<matplotlib.image.AxesImage at 0x7fcb3c388f10>"
            ]
          },
          "metadata": {},
          "execution_count": 4
        },
        {
          "output_type": "display_data",
          "data": {
            "image/png": "[encoded data removed]",
            "text/plain": [
              "<Figure size 432x288 with 1 Axes>"
            ]
          },
          "metadata": {
            "needs_background": "light"
          }
        }
      ]
    },
    {
      "cell_type": "code",
      "metadata": {
        "colab": {
          "base_uri": "https://localhost:8080/",
          "height": 268
        },
        "id": "z2GXehdQV3xr",
        "outputId": "a24567e6-66a1-4ee5-915b-26b09287c6d2"
      },
      "source": [
        "for i in range(9):\n",
        "\tpyplot.subplot(330+1+ i)\n",
        "\tpyplot.imshow(x_train[i])\n",
        "pyplot.show()"
      ],
      "execution_count": null,
      "outputs": [
        {
          "output_type": "display_data",
          "data": {
            "image/png": "[encoded data removed]",
            "text/plain": [
              "<Figure size 432x288 with 9 Axes>"
            ]
          },
          "metadata": {
            "needs_background": "light"
          }
        }
      ]
    },
    {
      "cell_type": "markdown",
      "metadata": {
        "id": "5a8cr5JObx5G"
      },
      "source": [
        "##Preprocessing"
      ]
    },
    {
      "cell_type": "code",
      "metadata": {
        "colab": {
          "base_uri": "https://localhost:8080/"
        },
        "id": "zmyYwmC_ctmu",
        "outputId": "1dad2361-54ac-42b5-9a66-2bed45d7cc8c"
      },
      "source": [
        "# reshape the training data into a form which can be easily identified by the cnn model as corresponding to greyscale images.\n",
        "x_train=x_train.reshape(60000,28,28,1)\n",
        "x_test=x_test.reshape(10000,28,28,1)\n",
        "print(x_train.shape)\n",
        "print(x_test.shape)"
      ],
      "execution_count": null,
      "outputs": [
        {
          "output_type": "stream",
          "name": "stdout",
          "text": [
            "(60000, 28, 28, 1)\n",
            "(10000, 28, 28, 1)\n"
          ]
        }
      ]
    },
    {
      "cell_type": "code",
      "metadata": {
        "colab": {
          "base_uri": "https://localhost:8080/"
        },
        "id": "bZSkGppwePKU",
        "outputId": "03b83262-d2ce-4d33-b377-9ec98d3d97e4"
      },
      "source": [
        "# reshape the y training and test data and use one hot encoding \n",
        "y_train=y_train.reshape(60000,1)\n",
        "y_test=y_test.reshape(10000,1)\n",
        "print(y_train.shape)\n",
        "print(y_test.shape)\n",
        "y_train = to_categorical(y_train)\n",
        "y_test = to_categorical(y_test)"
      ],
      "execution_count": null,
      "outputs": [
        {
          "output_type": "stream",
          "name": "stdout",
          "text": [
            "(60000, 1)\n",
            "(10000, 1)\n"
          ]
        }
      ]
    },
    {
      "cell_type": "markdown",
      "metadata": {
        "id": "fuAOfPBOgj9h"
      },
      "source": [
        "##Model"
      ]
    },
    {
      "cell_type": "code",
      "metadata": {
        "id": "9dFnuNZwb5d-"
      },
      "source": [
        "model=Sequential()\n",
        "\n",
        "## add the different layers\n",
        "model.add(Conv2D(64,kernel_size=3,activation='relu',input_shape=(28,28,1),name='conv_1'))\n",
        "model.add(MaxPooling2D(pool_size=(2,2),name='max_pool_1'))\n",
        "model.add(Conv2D(32,kernel_size=3,activation='relu',name='conv_2'))\n",
        "model.add(MaxPooling2D(pool_size=(2,2),name='max_pool_2'))\n",
        "model.add(Flatten(name='flatten'))\n",
        "model.add(Dense(10,activation='softmax'))"
      ],
      "execution_count": null,
      "outputs": []
    },
    {
      "cell_type": "code",
      "metadata": {
        "colab": {
          "base_uri": "https://localhost:8080/"
        },
        "id": "0Hhmdn6Sb5mc",
        "outputId": "bd53ee50-24f2-4d81-c724-5d649caf8fcf"
      },
      "source": [
        "model.summary()"
      ],
      "execution_count": null,
      "outputs": [
        {
          "output_type": "stream",
          "name": "stdout",
          "text": [
            "Model: \"sequential\"\n",
            "_________________________________________________________________\n",
            "Layer (type)                 Output Shape              Param #   \n",
            "=================================================================\n",
            "conv_1 (Conv2D)              (None, 26, 26, 64)        640       \n",
            "_________________________________________________________________\n",
            "max_pool_1 (MaxPooling2D)    (None, 13, 13, 64)        0         \n",
            "_________________________________________________________________\n",
            "conv_2 (Conv2D)              (None, 11, 11, 32)        18464     \n",
            "_________________________________________________________________\n",
            "max_pool_2 (MaxPooling2D)    (None, 5, 5, 32)          0         \n",
            "_________________________________________________________________\n",
            "flatten (Flatten)            (None, 800)               0         \n",
            "_________________________________________________________________\n",
            "dense (Dense)                (None, 10)                8010      \n",
            "=================================================================\n",
            "Total params: 27,114\n",
            "Trainable params: 27,114\n",
            "Non-trainable params: 0\n",
            "_________________________________________________________________\n"
          ]
        }
      ]
    },
    {
      "cell_type": "code",
      "metadata": {
        "id": "bzePJxtgnd12"
      },
      "source": [
        "model.compile(loss='categorical_crossentropy',\n",
        "              optimizer='adam',\n",
        "              metrics=['accuracy'])"
      ],
      "execution_count": null,
      "outputs": []
    },
    {
      "cell_type": "markdown",
      "metadata": {
        "id": "0pjI7pS6oUki"
      },
      "source": [
        "## Training"
      ]
    },
    {
      "cell_type": "code",
      "metadata": {
        "id": "6fIbAYCAres1"
      },
      "source": [
        "# BATCH_SIZE=128\n",
        "# EPOCH_SIZE=25"
      ],
      "execution_count": null,
      "outputs": []
    },
    {
      "cell_type": "code",
      "metadata": {
        "id": "DBotFjiNrmMo"
      },
      "source": [
        "\n",
        "# history=model.fit(gen.flow(x_train, y_train, BATCH_SIZE), \n",
        "                  # steps_per_epoch = y_train.shape[0] // BATCH_SIZE, \n",
        "                  # epochs = EPOCH_SIZE, \n",
        "                  # validation_data = gen.flow(x_test, y_test, BATCH_SIZE),\n",
        "                  # validation_steps = y_test.shape[0] // BATCH_SIZE\n",
        "                  \n",
        "                    # )"
      ],
      "execution_count": null,
      "outputs": []
    },
    {
      "cell_type": "code",
      "metadata": {
        "id": "H5KBntXJsbIl"
      },
      "source": [
        "\n",
        "#gen = tf.keras.preprocessing.image.ImageDataGenerator(rotation_range=8, width_shift_range=0.08, shear_range=0.3,\n",
        "                               height_shift_range=0.08, zoom_range=0.08)"
      ],
      "execution_count": null,
      "outputs": []
    },
    {
      "cell_type": "code",
      "metadata": {
        "colab": {
          "base_uri": "https://localhost:8080/"
        },
        "id": "js9clodsn30C",
        "outputId": "b494d1bd-0d61-473c-892e-1d8aae7ce1b9"
      },
      "source": [
        "#train the model\n",
        "history=model.fit(x_train, y_train, validation_data=(x_test, y_test), epochs=3)"
      ],
      "execution_count": null,
      "outputs": [
        {
          "output_type": "stream",
          "name": "stdout",
          "text": [
            "Epoch 1/3\n",
            "1875/1875 [==============================] - 70s 38ms/step - loss: 0.2906 - accuracy: 0.8999 - val_loss: 0.4277 - val_accuracy: 0.8773\n",
            "Epoch 2/3\n",
            "1875/1875 [==============================] - 71s 38ms/step - loss: 0.2445 - accuracy: 0.9119 - val_loss: 0.4164 - val_accuracy: 0.8808\n",
            "Epoch 3/3\n",
            "1875/1875 [==============================] - 71s 38ms/step - loss: 0.2363 - accuracy: 0.9151 - val_loss: 0.4201 - val_accuracy: 0.8766\n"
          ]
        }
      ]
    },
    {
      "cell_type": "code",
      "metadata": {
        "colab": {
          "base_uri": "https://localhost:8080/"
        },
        "id": "pEWr3p7L7jC2",
        "outputId": "f0e36c75-d921-4791-9523-d0db104a5b80"
      },
      "source": [
        "#Train the model\n",
        "history=model.fit(x_train, \n",
        "          y_train,  #It expects integers because of the sparse_categorical_crossentropy loss function\n",
        "          epochs=25, #number of iterations over the entire dataset to train on\n",
        "          batch_size=128)#number of samples per gradient update for training"
      ],
      "execution_count": null,
      "outputs": [
        {
          "output_type": "stream",
          "name": "stdout",
          "text": [
            "Epoch 1/25\n",
            "469/469 [==============================] - 61s 130ms/step - loss: 0.1648 - accuracy: 0.9389\n",
            "Epoch 2/25\n",
            "469/469 [==============================] - 61s 129ms/step - loss: 0.1398 - accuracy: 0.9488\n",
            "Epoch 3/25\n",
            "469/469 [==============================] - 60s 129ms/step - loss: 0.1324 - accuracy: 0.9511\n",
            "Epoch 4/25\n",
            "469/469 [==============================] - 61s 130ms/step - loss: 0.1329 - accuracy: 0.9504\n",
            "Epoch 5/25\n",
            "469/469 [==============================] - 60s 128ms/step - loss: 0.1347 - accuracy: 0.9502\n",
            "Epoch 6/25\n",
            "469/469 [==============================] - 60s 128ms/step - loss: 0.1390 - accuracy: 0.9476\n",
            "Epoch 7/25\n",
            "469/469 [==============================] - 61s 129ms/step - loss: 0.1390 - accuracy: 0.9486\n",
            "Epoch 8/25\n",
            "469/469 [==============================] - 61s 129ms/step - loss: 0.1379 - accuracy: 0.9482\n",
            "Epoch 9/25\n",
            "469/469 [==============================] - 60s 129ms/step - loss: 0.1351 - accuracy: 0.9506\n",
            "Epoch 10/25\n",
            "469/469 [==============================] - 60s 128ms/step - loss: 0.1343 - accuracy: 0.9508\n",
            "Epoch 11/25\n",
            "469/469 [==============================] - 60s 128ms/step - loss: 0.1316 - accuracy: 0.9511\n",
            "Epoch 12/25\n",
            "469/469 [==============================] - 60s 129ms/step - loss: 0.1296 - accuracy: 0.9519\n",
            "Epoch 13/25\n",
            "469/469 [==============================] - 60s 129ms/step - loss: 0.1270 - accuracy: 0.9518\n",
            "Epoch 14/25\n",
            "469/469 [==============================] - 60s 129ms/step - loss: 0.1288 - accuracy: 0.9518\n",
            "Epoch 15/25\n",
            "469/469 [==============================] - 60s 128ms/step - loss: 0.1250 - accuracy: 0.9528\n",
            "Epoch 16/25\n",
            "469/469 [==============================] - 60s 129ms/step - loss: 0.1208 - accuracy: 0.9542\n",
            "Epoch 17/25\n",
            "469/469 [==============================] - 61s 129ms/step - loss: 0.1279 - accuracy: 0.9529\n",
            "Epoch 18/25\n",
            "469/469 [==============================] - 61s 129ms/step - loss: 0.1236 - accuracy: 0.9545\n",
            "Epoch 19/25\n",
            "469/469 [==============================] - 60s 128ms/step - loss: 0.1191 - accuracy: 0.9557\n",
            "Epoch 20/25\n",
            "469/469 [==============================] - 60s 128ms/step - loss: 0.1146 - accuracy: 0.9576\n",
            "Epoch 21/25\n",
            "469/469 [==============================] - 60s 129ms/step - loss: 0.1183 - accuracy: 0.9562\n",
            "Epoch 22/25\n",
            "469/469 [==============================] - 60s 129ms/step - loss: 0.1174 - accuracy: 0.9565\n",
            "Epoch 23/25\n",
            "469/469 [==============================] - 61s 129ms/step - loss: 0.1187 - accuracy: 0.9557\n",
            "Epoch 24/25\n",
            "469/469 [==============================] - 60s 128ms/step - loss: 0.1201 - accuracy: 0.9556\n",
            "Epoch 25/25\n",
            "469/469 [==============================] - 60s 128ms/step - loss: 0.1155 - accuracy: 0.9574\n"
          ]
        }
      ]
    },
    {
      "cell_type": "markdown",
      "metadata": {
        "id": "trH_cCYkok1p"
      },
      "source": [
        "##Further graphs and analysis"
      ]
    },
    {
      "cell_type": "code",
      "metadata": {
        "colab": {
          "base_uri": "https://localhost:8080/"
        },
        "id": "VUm-haD3DZtX",
        "outputId": "83f38f05-3450-40b9-8471-71d0dbbf1e95"
      },
      "source": [
        "print(history.history.keys())"
      ],
      "execution_count": null,
      "outputs": [
        {
          "output_type": "stream",
          "name": "stdout",
          "text": [
            "dict_keys(['loss', 'accuracy', 'val_loss', 'val_accuracy'])\n"
          ]
        }
      ]
    },
    {
      "cell_type": "code",
      "metadata": {
        "colab": {
          "base_uri": "https://localhost:8080/",
          "height": 545
        },
        "id": "S3BoxexQDfno",
        "outputId": "48010dac-94b6-409d-e601-3b5bd153768e"
      },
      "source": [
        "acc = history.history['accuracy']\n",
        "val_acc = history.history['val_accuracy']\n",
        "loss = history.history['loss']\n",
        "val_loss = history.history['val_loss']\n",
        "epochs = range(1, len(acc) + 1)\n",
        "\n",
        "plt.title('Accuracy')\n",
        "plt.plot(epochs, acc, 'purple', label='Training Accuracy')\n",
        "plt.plot(epochs, val_acc, 'green', label = 'Validation Accuracy')\n",
        "plt.legend()\n",
        "\n",
        "plt.figure()\n",
        "plt.title('Loss')\n",
        "plt.plot(epochs, loss, 'purple', label = 'Training Loss')\n",
        "plt.plot(epochs, val_loss, 'green', label = 'Validation Loss')\n",
        "\n",
        "plt.legend()\n",
        "\n",
        "plt.show()"
      ],
      "execution_count": null,
      "outputs": [
        {
          "output_type": "display_data",
          "data": {
            "image/png": "[encoded data removed]",
            "text/plain": [
              "<Figure size 432x288 with 1 Axes>"
            ]
          },
          "metadata": {
            "needs_background": "light"
          }
        },
        {
          "output_type": "display_data",
          "data": {
            "image/png": "[encoded data removed]",
            "text/plain": [
              "<Figure size 432x288 with 1 Axes>"
            ]
          },
          "metadata": {
            "needs_background": "light"
          }
        }
      ]
    },
    {
      "cell_type": "code",
      "metadata": {
        "colab": {
          "base_uri": "https://localhost:8080/"
        },
        "id": "F5d99BzCojqQ",
        "outputId": "aec9e226-e0d9-4da0-ed10-68d0d243de7c"
      },
      "source": [
        "score=model.evaluate(x_test, y_test, verbose = 0)\n",
        "print('Loss on running test : ', score[0])\n",
        "print('Accuracy on running test : ', score[1])"
      ],
      "execution_count": null,
      "outputs": [
        {
          "output_type": "stream",
          "name": "stdout",
          "text": [
            "Loss on running test :  0.4201034605503082\n",
            "Accuracy on running test :  0.8766000270843506\n"
          ]
        }
      ]
    }
  ]
}